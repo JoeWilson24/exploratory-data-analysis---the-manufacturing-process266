{
 "cells": [
  {
   "cell_type": "markdown",
   "metadata": {},
   "source": [
    "This notebook will focus on the Exploratory Data Analysis of fault data from a manufacturing process"
   ]
  },
  {
   "cell_type": "markdown",
   "metadata": {},
   "source": [
    "## Necessary Imports"
   ]
  },
  {
   "cell_type": "code",
   "execution_count": 36,
   "metadata": {},
   "outputs": [],
   "source": [
    "import pandas as pd\n",
    "import numpy as np\n",
    "import plotly.express as px\n",
    "import matplotlib.pyplot as plt\n",
    "import statsmodels.graphics.gofplots as smg\n",
    "import matplotlib.pyplot as plt\n",
    "import seaborn as sns\n",
    "from scipy.stats import normaltest\n",
    "from scipy import stats"
   ]
  },
  {
   "cell_type": "markdown",
   "metadata": {},
   "source": [
    "## Loading the dataset"
   ]
  },
  {
   "cell_type": "code",
   "execution_count": 3,
   "metadata": {},
   "outputs": [],
   "source": [
    "df = pd.read_csv(\"/Users/joe/Documents/AiCore/VS Code/DataAnalysisProject/failure_data.csv\") "
   ]
  },
  {
   "cell_type": "markdown",
   "metadata": {},
   "source": [
    "## Ensuring the Columns are the correct Datatype"
   ]
  },
  {
   "cell_type": "markdown",
   "metadata": {},
   "source": [
    "Within this there is some initial analysis on the datatypes of the columns in the dataframe. There is a class to convert the datatypes, and a class to give information on the Dataframe. "
   ]
  },
  {
   "cell_type": "code",
   "execution_count": 19,
   "metadata": {},
   "outputs": [
    {
     "name": "stdout",
     "output_type": "stream",
     "text": [
      "Summary of DataFrame:\n",
      "{'Shape': (10000, 14), 'Column Data Types': UDI                          int64\n",
      "Product ID                  object\n",
      "Type                        object\n",
      "Air temperature [K]        float64\n",
      "Process temperature [K]    float64\n",
      "Rotational speed [rpm]       int64\n",
      "Torque [Nm]                float64\n",
      "Tool wear [min]            float64\n",
      "Machine failure               bool\n",
      "TWF                           bool\n",
      "HDF                           bool\n",
      "PWF                           bool\n",
      "OSF                           bool\n",
      "RNF                           bool\n",
      "dtype: object, 'Null Values':                          null_count  null_percentage\n",
      "UDI                               0              0.0\n",
      "Product ID                        0              0.0\n",
      "Type                              0              0.0\n",
      "Air temperature [K]               0              0.0\n",
      "Process temperature [K]           0              0.0\n",
      "Rotational speed [rpm]            0              0.0\n",
      "Torque [Nm]                       0              0.0\n",
      "Tool wear [min]                   0              0.0\n",
      "Machine failure                   0              0.0\n",
      "TWF                               0              0.0\n",
      "HDF                               0              0.0\n",
      "PWF                               0              0.0\n",
      "OSF                               0              0.0\n",
      "RNF                               0              0.0}\n",
      "\n",
      "Statistics (mean, std, median):\n",
      "                                mean          std       median\n",
      "UDI                      5000.500000  2886.895680  5000.500000\n",
      "Air temperature [K]       300.008590     1.913542   300.008590\n",
      "Process temperature [K]   310.011580     1.413428   310.011580\n",
      "Rotational speed [rpm]   1538.776100   179.284096  1503.000000\n",
      "Torque [Nm]                39.986910     9.968934    40.100000\n",
      "Tool wear [min]           108.219525    62.053861   108.219525\n",
      "\n",
      "Count of distinct values in each column:\n",
      "UDI                        10000\n",
      "Product ID                 10000\n",
      "Type                           3\n",
      "Air temperature [K]           94\n",
      "Process temperature [K]       83\n",
      "Rotational speed [rpm]       941\n",
      "Torque [Nm]                  577\n",
      "Tool wear [min]              247\n",
      "Machine failure                2\n",
      "TWF                            2\n",
      "HDF                            2\n",
      "PWF                            2\n",
      "OSF                            2\n",
      "RNF                            2\n",
      "dtype: int64\n",
      "\n",
      "Shape of DataFrame:\n",
      "Rows, Columns: (10000, 14)\n",
      "\n",
      "Null value counts and percentages:\n",
      "                         null_count  null_percentage\n",
      "UDI                               0              0.0\n",
      "Product ID                        0              0.0\n",
      "Type                              0              0.0\n",
      "Air temperature [K]               0              0.0\n",
      "Process temperature [K]           0              0.0\n",
      "Rotational speed [rpm]            0              0.0\n",
      "Torque [Nm]                       0              0.0\n",
      "Tool wear [min]                   0              0.0\n",
      "Machine failure                   0              0.0\n",
      "TWF                               0              0.0\n",
      "HDF                               0              0.0\n",
      "PWF                               0              0.0\n",
      "OSF                               0              0.0\n",
      "RNF                               0              0.0\n",
      "\n",
      "Top N categories in 'Type':\n",
      "Type\n",
      "L    6000\n",
      "M    2997\n",
      "H    1003\n",
      "Name: count, dtype: int64\n"
     ]
    }
   ],
   "source": [
    "class DataTransform:\n",
    "    def __init__ (self, df):\n",
    "        self.df = df\n",
    "\n",
    "    def convert_to_booleen(self):\n",
    "        bool_cols = ['Machine failure', 'TWF', 'HDF', 'PWF', 'OSF','RNF'] \n",
    "        for col in bool_cols:\n",
    "            self.df[col] = self.df[col].astype(bool)\n",
    "        return self.df\n",
    "\n",
    "transformer = DataTransform(df) \n",
    "\n",
    "transformed_df = transformer.convert_to_booleen()\n",
    "\n",
    "## print(transformed_df.head()) \n",
    "\n",
    "class DataFrameInfo:\n",
    "    def __init__(self, df):\n",
    "        self.df = df\n",
    "\n",
    "    def describe_columns(self):\n",
    "        \"\"\"Describe all columns to check their data types.\"\"\"\n",
    "        return self.df.dtypes\n",
    "\n",
    "    def extract_statistics(self):\n",
    "        \"\"\"Extract median, standard deviation, and mean for numeric columns.\"\"\"\n",
    "        stats = self.df.describe().T[['mean', 'std']].copy()\n",
    "        stats['median'] = self.df.median(numeric_only=True)\n",
    "        return stats\n",
    "\n",
    "    def count_distinct(self):\n",
    "        \"\"\"Count distinct values in each column.\"\"\"\n",
    "        return self.df.nunique()\n",
    "\n",
    "    def get_shape(self):\n",
    "        \"\"\"Return the shape of the DataFrame.\"\"\"\n",
    "        return self.df.shape\n",
    "\n",
    "    def count_nulls(self):\n",
    "        \"\"\"Generate a count and percentage count of NULL values in each column.\"\"\"\n",
    "        null_counts = self.df.isnull().sum()\n",
    "        null_percentage = (null_counts / len(self.df)) * 100\n",
    "        return pd.DataFrame({'null_count': null_counts, 'null_percentage': null_percentage})\n",
    "\n",
    "    def top_n_categories(self, column, n=5):\n",
    "        \"\"\"Show the top N most common values in a categorical column.\"\"\"\n",
    "        if column in self.df.select_dtypes(include='object').columns:\n",
    "            return self.df[column].value_counts().head(n)\n",
    "        else:\n",
    "            raise ValueError(f\"Column '{column}' is not categorical.\")\n",
    "\n",
    "    def get_summary(self):\n",
    "        \"\"\"Print a summary of the DataFrame including basic info.\"\"\"\n",
    "        return {\n",
    "            \"Shape\": self.get_shape(),\n",
    "            \"Column Data Types\": self.describe_columns(),\n",
    "            \"Null Values\": self.count_nulls()\n",
    "        }\n",
    "\n",
    "# Example usage of the DataFrameInfo class\n",
    "df_info = DataFrameInfo(transformed_df)\n",
    "\n",
    "# Print summary\n",
    "print(\"Summary of DataFrame:\")\n",
    "print(df_info.get_summary())\n",
    "\n",
    "# Extract statistics\n",
    "print(\"\\nStatistics (mean, std, median):\")\n",
    "print(df_info.extract_statistics())\n",
    "\n",
    "# Count distinct values\n",
    "print(\"\\nCount of distinct values in each column:\")\n",
    "print(df_info.count_distinct())\n",
    "\n",
    "# Shape of the DataFrame\n",
    "print(\"\\nShape of DataFrame:\")\n",
    "print(\"Rows, Columns:\", df_info.get_shape())\n",
    "\n",
    "# Null counts\n",
    "print(\"\\nNull value counts and percentages:\")\n",
    "print(df_info.count_nulls())\n",
    "\n",
    "# Top N categories for 'Type' column\n",
    "\n",
    "print(\"\\nTop N categories in 'Type':\")\n",
    "print(df_info.top_n_categories('Type'))\n"
   ]
  },
  {
   "cell_type": "markdown",
   "metadata": {},
   "source": [
    "You can see that there is 6 columns which have been converted to the datatype booleen to give True, False values instead of 1,0 values respectively. I did not convert the float datatypes to numerical data as the data was only given to 1 decimal place, therefore using the slower numerical datatype is not necessary. "
   ]
  },
  {
   "cell_type": "markdown",
   "metadata": {},
   "source": [
    "## Creating a class to plot the numerical data. "
   ]
  },
  {
   "cell_type": "code",
   "execution_count": 107,
   "metadata": {},
   "outputs": [],
   "source": [
    "class Plotter:\n",
    "    def __init__(self, df):\n",
    "        self.df = df \n",
    "    \n",
    "    def box_plot_outlier_check(self):\n",
    "        cols = ['Air temperature [K]', 'Process temperature [K]', 'Rotational speed [rpm]', 'Torque [Nm]', 'Tool wear [min]']\n",
    "        for col in cols:\n",
    "            fig = px.box(self.df, y=col)\n",
    "            fig.show()     \n",
    "\n",
    "    def hist_plotter(self):\n",
    "        cols = ['Air temperature [K]', 'Process temperature [K]', 'Rotational speed [rpm]', 'Torque [Nm]', 'Tool wear [min]']\n",
    "        fig, axes = plt.subplots(nrows=len(cols), ncols=1, figsize=(12, 8))  # Create a single subplot for each column\n",
    "\n",
    "        for i, col in enumerate(cols):\n",
    "            df[col].hist(bins=40, ax=axes[i])  # Plot histograms on each subplot\n",
    "            axes[i].set_title(col)  # Set title for each subplot\n",
    "\n",
    "        plt.tight_layout()  # Adjust spacing between subplots\n",
    "        plt.show()\n",
    "\n",
    "    def qq_plotter(self):\n",
    "        cols = ['Air temperature [K]', 'Process temperature [K]', 'Rotational speed [rpm]', 'Torque [Nm]', 'Tool wear [min]']\n",
    "        for col in cols:\n",
    "            fig, ax = plt.subplots()\n",
    "            smg.qqplot(self.df[col], line='q', ax=ax)  # Create q-q plot with diagonal line\n",
    "            ax.set_title(f'Q-Q Plot of {col}')\n",
    "            ax.set_xlabel('Quantiles of Standardized Data')\n",
    "            ax.set_ylabel('Quantiles of {col}')\n",
    "            plt.show()\n",
    "            \n",
    "    def d_agostino_k2_test(self):\n",
    "        cols = ['Air temperature [K]', 'Process temperature [K]', 'Rotational speed [rpm]', 'Torque [Nm]', 'Tool wear [min]']\n",
    "        for col in cols:\n",
    "            stat, p = normaltest(self.df[col], nan_policy='omit')\n",
    "            print(f\"D'Agostino's K-squared Test for {col}\")\n",
    "            print('Statistics=%.3f, p=%.3f' % (stat, p))\n",
    "            print('----------------------------------')\n",
    "\n",
    "    ## def plot_tool_wear_vs_features(self):\n",
    "\n",
    "        cols = ['Air temperature [K]', 'Process temperature [K]', 'Rotational speed [rpm]', 'Torque [Nm]']\n",
    "        for col in cols:\n",
    "            plt.figure(figsize=(8, 6))\n",
    "            sns.scatterplot(x=col, y='Tool wear [min]', data=self.df)\n",
    "            plt.xlabel(col)\n",
    "            plt.ylabel('Tool wear [min]')\n",
    "            plt.title(f'Tool wear vs. {col}')\n",
    "            plt.show()\n",
    "\n",
    "    def z_scores(self):\n",
    "\n",
    "        cols = ['Air temperature [K]', 'Process temperature [K]', 'Torque [Nm]', 'Tool wear [min]']\n",
    "        for col in cols:\n",
    "            self.df[f\"{col}_zscore\"] = stats.zscore(self.df[col]) \n",
    "        return self.df\n",
    "    \n",
    "\n",
    "# Instance of the Plotter class\n",
    "plotter = Plotter(df)"
   ]
  },
  {
   "cell_type": "markdown",
   "metadata": {},
   "source": [
    "Working for data imputation:\n",
    "\n",
    "- Data set of moderate size and columns displaying null percentage rates of <10, therefore imputation is the correct method to use. \n",
    "\n",
    "- D’Agostino’s K^2 Test and histogram plots suggest that the data is normally distributed\n",
    "- Q-q plots suggest normal distribution (at least through the middle of the range)\n",
    "- Therefore we can infer that the data in normally distributed and the values are missing at random\n",
    "- Therefore mean value used to impute the missing null values"
   ]
  },
  {
   "cell_type": "markdown",
   "metadata": {},
   "source": [
    "## Creating a class to impute the null values from the Dataframe based on the workings above"
   ]
  },
  {
   "cell_type": "code",
   "execution_count": 82,
   "metadata": {},
   "outputs": [
    {
     "name": "stdout",
     "output_type": "stream",
     "text": [
      "\n",
      "Null value counts and percentages after imputation:\n",
      "                         null_count  null_percentage\n",
      "UDI                               0              0.0\n",
      "Product ID                        0              0.0\n",
      "Type                              0              0.0\n",
      "Air temperature [K]               0              0.0\n",
      "Process temperature [K]           0              0.0\n",
      "Rotational speed [rpm]            0              0.0\n",
      "Torque [Nm]                       0              0.0\n",
      "Tool wear [min]                   0              0.0\n",
      "Machine failure                   0              0.0\n",
      "TWF                               0              0.0\n",
      "HDF                               0              0.0\n",
      "PWF                               0              0.0\n",
      "OSF                               0              0.0\n",
      "RNF                               0              0.0\n"
     ]
    },
    {
     "name": "stderr",
     "output_type": "stream",
     "text": [
      "/var/folders/h0/gy3lxpmn2916h35m3d0ww1l80000gn/T/ipykernel_58460/739985501.py:9: FutureWarning:\n",
      "\n",
      "A value is trying to be set on a copy of a DataFrame or Series through chained assignment using an inplace method.\n",
      "The behavior will change in pandas 3.0. This inplace method will never work because the intermediate object on which we are setting values always behaves as a copy.\n",
      "\n",
      "For example, when doing 'df[col].method(value, inplace=True)', try using 'df.method({col: value}, inplace=True)' or df[col] = df[col].method(value) instead, to perform the operation inplace on the original object.\n",
      "\n",
      "\n",
      "\n"
     ]
    }
   ],
   "source": [
    "class DataFrameTransform:\n",
    "    def __init__ (self, df):\n",
    "        self.df = df\n",
    "    \n",
    "    def impute_nulls_mean(self):\n",
    "        cols = ['Air temperature [K]', 'Process temperature [K]', 'Tool wear [min]']\n",
    "        for col in cols:\n",
    "            col_mean = self.df[col].mean()\n",
    "            self.df[col].fillna(col_mean, inplace=True)\n",
    "        return self.df\n",
    "    \n",
    "    def correct_skew_log(self):\n",
    "        cols = ['Rotational speed [rpm]']\n",
    "        for col in cols:\n",
    "            log_column = self.df[col].map(lambda i: np.log(i) if i > 0 else 0)\n",
    "            t=sns.histplot(log_column,label=\"Skewness: %.2f\"%(log_column.skew()) )\n",
    "            t.legend()\n",
    "\n",
    "    def correct_skew_boxcox(self):\n",
    "        cols = ['Rotational speed [rpm]']\n",
    "        for col in cols:\n",
    "            boxcox_column = df[col]\n",
    "            boxcox_column= stats.boxcox(boxcox_column)\n",
    "            boxcox_column= pd.Series(boxcox_column[0])\n",
    "            t=sns.histplot(boxcox_column,label=\"Skewness: %.2f\"%(boxcox_column.skew()) )\n",
    "            t.legend()\n",
    "\n",
    "\n",
    "transformer = DataFrameTransform(df)\n",
    "transformer.impute_nulls_mean()\n",
    "\n",
    "imputed_df_info = DataFrameInfo(df)\n",
    "\n",
    "print(\"\\nNull value counts and percentages after imputation:\")\n",
    "print(imputed_df_info.count_nulls())\n"
   ]
  },
  {
   "cell_type": "markdown",
   "metadata": {},
   "source": [
    "From the new Null % counts we can see the data has been successfully imputed!"
   ]
  },
  {
   "cell_type": "code",
   "execution_count": 83,
   "metadata": {},
   "outputs": [
    {
     "name": "stdout",
     "output_type": "stream",
     "text": [
      "Air temperature [K]        0.123842\n",
      "Process temperature [K]    0.006837\n",
      "Rotational speed [rpm]     1.993171\n",
      "Torque [Nm]               -0.009517\n",
      "Tool wear [min]            0.021715\n",
      "dtype: float64\n"
     ]
    }
   ],
   "source": [
    "skew_results = df[['Air temperature [K]', 'Process temperature [K]', 'Rotational speed [rpm]', 'Torque [Nm]', 'Tool wear [min]']].skew()\n",
    "\n",
    "print(skew_results)"
   ]
  },
  {
   "cell_type": "markdown",
   "metadata": {},
   "source": [
    "As this is a fairly large Dataset (10,000), I will only correct the skew of the columns that are > 1 and < -1. This indicates that Rotational speed is the only column that needs transforming to correct the skew. From looking at the histograms it is clear to see that this column has a clear positive (right) skew. The others do not exhibit such skews and look relatively symmetrical. Air temperature exhibits the next largest skew, but as this dataset is large I do not believe it needs transforming. \n",
    "\n",
    "I will start by performing a log transformation to see if it corrects the skew. I will create the method in the DataFrameTransform class as requested. "
   ]
  },
  {
   "cell_type": "code",
   "execution_count": 84,
   "metadata": {},
   "outputs": [
    {
     "name": "stdout",
     "output_type": "stream",
     "text": [
      "The correction after the Box-Cox transformation:\n"
     ]
    },
    {
     "data": {
      "image/png": "[encoded data removed]",
      "text/plain": [
       "<Figure size 640x480 with 1 Axes>"
      ]
     },
     "metadata": {},
     "output_type": "display_data"
    }
   ],
   "source": [
    "## imputed_transformer = DataFrameTransform(df) # Making a transformer class using the imputed data\n",
    "\n",
    "##imputed_transformer.correct_skew_log() \n",
    "\n",
    "##print(\"The correction after the log transformation:\")\n",
    "##plt.show() \n",
    "\n",
    "transformer.correct_skew_boxcox() \n",
    "\n",
    "print(\"The correction after the Box-Cox transformation:\")\n",
    "plt.show() "
   ]
  },
  {
   "cell_type": "markdown",
   "metadata": {},
   "source": [
    "The above figures show that the a Box-Cox transformation corrects the skewed data to the least amount of skewness, therefore I will use this transformation on the data. "
   ]
  },
  {
   "cell_type": "markdown",
   "metadata": {},
   "source": [
    "Saving a separate copy of the dataframe for comparison later:"
   ]
  },
  {
   "cell_type": "code",
   "execution_count": 91,
   "metadata": {},
   "outputs": [],
   "source": [
    "df_original = df.copy()"
   ]
  },
  {
   "cell_type": "markdown",
   "metadata": {},
   "source": [
    "## Dealing with outliers\n",
    "\n",
    "# Starting with visual methods. \n",
    "\n",
    "Using the plotter class methods for creating histograms and boxplots to check for outliers:"
   ]
  },
  {
   "cell_type": "code",
   "execution_count": 92,
   "metadata": {},
   "outputs": [],
   "source": [
    "##plotter.hist_plotter()\n",
    "\n",
    "##plotter.box_plot_outlier_check()"
   ]
  },
  {
   "cell_type": "markdown",
   "metadata": {},
   "source": [
    "From boxplots and histograms there doesn't appear to be any obvious outliers in the numerical dataframe columns (Air temperature [K], Process temperature [K], Rotational speed [rpm], Torque [Nm], Tool wear [min]).\n",
    "\n",
    "Next we look at statistical methods for outlier dection:\n",
    "\n",
    "Below shows the highest and lowest values of z score for each of the numerical columns. The Z-Score is a statistical measurement that describes a data point's position relative to the mean of a group of values, measured in terms of standard deviations. Data points with a Z-Score having a high absolute value, typically beyond a threshold like 2 or 3, are often considered outliers as they significantly deviate from the average."
   ]
  },
  {
   "cell_type": "code",
   "execution_count": 87,
   "metadata": {},
   "outputs": [
    {
     "name": "stdout",
     "output_type": "stream",
     "text": [
      "Lowest z score values for Air temperature:\n",
      "3975   -2.460790\n",
      "3031   -2.460790\n",
      "8425   -2.460790\n",
      "5077   -2.408528\n",
      "8873   -2.408528\n",
      "Name: Air temperature [K], dtype: float64\n",
      "\n",
      "Highest z score values for Air temperature:\n",
      "7861    2.295026\n",
      "5470    2.295026\n",
      "4919    2.295026\n",
      "4949    2.295026\n",
      "2236    2.347288\n",
      "Name: Air temperature [K], dtype: float64\n",
      "\n",
      "Lowest z score values for Process temperature:\n",
      "3975   -3.050594\n",
      "8425   -3.050594\n",
      "8873   -2.979840\n",
      "3031   -2.979840\n",
      "3124   -2.979840\n",
      "Name: Process temperature [K], dtype: float64\n",
      "\n",
      "Highest z score values for Process temperature:\n",
      "2236    2.609686\n",
      "5576    2.609686\n",
      "873     2.609686\n",
      "3761    2.680440\n",
      "7084    2.680440\n",
      "Name: Process temperature [K], dtype: float64\n",
      "\n",
      "Lowest z score values for Rotational speed:\n",
      "2913   -2.068196\n",
      "4048   -1.995682\n",
      "9874   -1.984526\n",
      "6979   -1.934324\n",
      "404    -1.889699\n",
      "Name: Rotational speed [rpm], dtype: float64\n",
      "\n",
      "Highest z score values for Rotational speed:\n",
      "374     7.174581\n",
      "3610    7.219205\n",
      "3342    7.375389\n",
      "4012    7.447904\n",
      "1517    7.514840\n",
      "Name: Rotational speed [rpm], dtype: float64\n",
      "\n",
      "Lowest z score values for Torque:\n",
      "1517   -3.630149\n",
      "4012   -3.590023\n",
      "3342   -3.549896\n",
      "3610   -3.449580\n",
      "374    -3.429516\n",
      "Name: Torque [Nm], dtype: float64\n",
      "\n",
      "Highest z score values for Torque:\n",
      "3645    3.371952\n",
      "433     3.462237\n",
      "4833    3.552522\n",
      "6092    3.632776\n",
      "404     3.672902\n",
      "Name: Torque [Nm], dtype: float64\n",
      "\n",
      "Lowest z score values for Tool wear:\n",
      "4281   -1.744048\n",
      "7258   -1.744048\n",
      "1982   -1.744048\n",
      "7962   -1.744048\n",
      "7967   -1.744048\n",
      "Name: Tool wear [min], dtype: float64\n",
      "\n",
      "Highest z score values for Tool wear:\n",
      "8200    2.220448\n",
      "2761    2.220448\n",
      "5349    2.220448\n",
      "1972    2.301027\n",
      "474     2.333259\n",
      "Name: Tool wear [min], dtype: float64\n"
     ]
    }
   ],
   "source": [
    "z_scores_df = plotter.z_scores()\n",
    "\n",
    "print('Lowest z score values for Air temperature:')\n",
    "print(z_scores_df['Air temperature [K]'].sort_values().head())\n",
    "print('\\nHighest z score values for Air temperature:')\n",
    "print(z_scores_df['Air temperature [K]'].sort_values().tail())\n",
    "\n",
    "print('\\nLowest z score values for Process temperature:')\n",
    "print(z_scores_df['Process temperature [K]'].sort_values().head())\n",
    "print('\\nHighest z score values for Process temperature:')\n",
    "print(z_scores_df['Process temperature [K]'].sort_values().tail())\n",
    "\n",
    "print('\\nLowest z score values for Rotational speed:')\n",
    "print(z_scores_df['Rotational speed [rpm]'].sort_values().head())\n",
    "print('\\nHighest z score values for Rotational speed:')\n",
    "print(z_scores_df['Rotational speed [rpm]'].sort_values().tail())\n",
    "\n",
    "print('\\nLowest z score values for Torque:')\n",
    "print(z_scores_df['Torque [Nm]'].sort_values().head())\n",
    "print('\\nHighest z score values for Torque:')\n",
    "print(z_scores_df['Torque [Nm]'].sort_values().tail())\n",
    "\n",
    "print('\\nLowest z score values for Tool wear:')\n",
    "print(z_scores_df['Tool wear [min]'].sort_values().head())\n",
    "print('\\nHighest z score values for Tool wear:')\n",
    "print(z_scores_df['Tool wear [min]'].sort_values().tail())\n"
   ]
  },
  {
   "cell_type": "markdown",
   "metadata": {},
   "source": [
    "# Considering the results above.\n",
    "\n",
    "As can be seen, all columns present z scores in the range of 2 to 3. This indicates deviation from the average. However, these z scores are accompanied by similarly high-absolute-value z scores, and none stand out, even for rotational speed which contains values above 7 (to be expected since we have already seen the data is positively skewed for this column pre-transformation). Therefore I propose that these data are real and useful and should not be removed. If, for example, there was a z score with an absolute value that was signifcantly different to the rest, indicating a true outlier, I would propose removal of this data point. "
   ]
  },
  {
   "cell_type": "markdown",
   "metadata": {},
   "source": [
    "Creating a dataframe where all rows containing a z score above 3 or below 3 are removed (for all columns where the data is normally distributed), and where all rows containing values outside of the interquartile range (for Rotational speed [rpm] since it is skewed) are removed:"
   ]
  },
  {
   "cell_type": "code",
   "execution_count": 114,
   "metadata": {},
   "outputs": [
    {
     "name": "stdout",
     "output_type": "stream",
     "text": [
      "UDI                               9566\n",
      "Product ID                        9566\n",
      "Type                              9566\n",
      "Air temperature [K]               9566\n",
      "Process temperature [K]           9566\n",
      "Rotational speed [rpm]            9566\n",
      "Torque [Nm]                       9566\n",
      "Tool wear [min]                   9566\n",
      "Machine failure                   9566\n",
      "TWF                               9566\n",
      "HDF                               9566\n",
      "PWF                               9566\n",
      "OSF                               9566\n",
      "RNF                               9566\n",
      "Air temperature [K]_zscore        9566\n",
      "Process temperature [K]_zscore    9566\n",
      "Rotational speed [rpm]_zscore     9566\n",
      "Torque [Nm]_zscore                9566\n",
      "Tool wear [min]_zscore            9566\n",
      "dtype: int64\n"
     ]
    }
   ],
   "source": [
    "df_concat = plotter.z_scores()\n",
    "\n",
    "## Calculating the interquartile range for rotational speed based off of the upper and lower quantiles, q3 and q1 respectively. \n",
    "q1 = df_concat['Rotational speed [rpm]'].quantile(0.25)\n",
    "q3 = df_concat['Rotational speed [rpm]'].quantile(0.75)\n",
    "\n",
    "rotational_speed_iqr = q3 - q1\n",
    "\n",
    "## creating a cleaned dataframe based on the criteria in the markdown above.\n",
    "\n",
    "df_cleaned = df_concat[(df_concat['Air temperature [K]_zscore'] <= 3) & (df_concat['Air temperature [K]_zscore'] >= -3) & (df_concat['Process temperature [K]_zscore'] <= 3) & (df_concat['Process temperature [K]_zscore'] >= -3) & (df_concat['Torque [Nm]_zscore'] <= 3) & (df_concat['Torque [Nm]_zscore'] >= -3) & (df_concat['Rotational speed [rpm]'] > (q1 - 1.5 * rotational_speed_iqr)) & (df_concat['Rotational speed [rpm]'] < (q3 + 1.5 * rotational_speed_iqr))]\n",
    "\n",
    "print(df_cleaned.count()) ## A count of values in each column, showing 434 rows have been removed "
   ]
  },
  {
   "cell_type": "markdown",
   "metadata": {},
   "source": [
    "It can now be seen that in the resulting cleaned dataframe 434 values have been dropped as outliers. "
   ]
  }
 ],
 "metadata": {
  "kernelspec": {
   "display_name": "Test_Env1",
   "language": "python",
   "name": "python3"
  },
  "language_info": {
   "codemirror_mode": {
    "name": "ipython",
    "version": 3
   },
   "file_extension": ".py",
   "mimetype": "text/x-python",
   "name": "python",
   "nbconvert_exporter": "python",
   "pygments_lexer": "ipython3",
   "version": "3.10.15"
  }
 },
 "nbformat": 4,
 "nbformat_minor": 2
}
